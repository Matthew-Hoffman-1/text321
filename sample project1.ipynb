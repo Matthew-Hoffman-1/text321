{
    "cells": [
        {
            "metadata": {
                "collapsed": true
            },
            "cell_type": "markdown",
            "source": "This is a sample project from watson studio project through Coursera"
        },
        {
            "metadata": {},
            "cell_type": "code",
            "source": "print (\"I am still learning.-Michelangelo\")",
            "execution_count": 4,
            "outputs": [
                {
                    "output_type": "stream",
                    "text": "I am still learning.-Michelangelo\n",
                    "name": "stdout"
                }
            ]
        },
        {
            "metadata": {},
            "cell_type": "code",
            "source": "print (\"I'm not a great coder yet. Please have mercy. -Matthew Hoffman\")",
            "execution_count": 5,
            "outputs": [
                {
                    "output_type": "stream",
                    "text": "I'm not a great coder yet. Please have mercy. -Matthew Hoffman\n",
                    "name": "stdout"
                }
            ]
        },
        {
            "metadata": {},
            "cell_type": "code",
            "source": "",
            "execution_count": null,
            "outputs": []
        }
    ],
    "metadata": {
        "kernelspec": {
            "name": "python3",
            "display_name": "Python 3.8",
            "language": "python"
        },
        "language_info": {
            "name": "python",
            "version": "3.8.12",
            "mimetype": "text/x-python",
            "codemirror_mode": {
                "name": "ipython",
                "version": 3
            },
            "pygments_lexer": "ipython3",
            "nbconvert_exporter": "python",
            "file_extension": ".py"
        }
    },
    "nbformat": 4,
    "nbformat_minor": 1
}